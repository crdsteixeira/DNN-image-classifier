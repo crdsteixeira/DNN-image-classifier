{
 "cells": [
  {
   "cell_type": "code",
   "execution_count": 3,
   "id": "b65e1ed0",
   "metadata": {},
   "outputs": [],
   "source": [
    "import numpy as np\n",
    "import matplotlib.pyplot as plt\n",
    "import random\n",
    "import os\n",
    "import PIL\n",
    "\n",
    "from keras.utils import np_utils                          # tools for creating one-hot encoding\n",
    "from keras.models import Sequential                       # Type of model we wish to use\n",
    "from keras.layers.core import Dense, Dropout, Activation  # Types of layers we wish to use\n",
    "\n",
    "from skimage.transform import resize                      # Used to scale/resize image arrays\n",
    "\n",
    "from sklearn.metrics import confusion_matrix              # Used to quickly make confusion matrix\n",
    "     "
   ]
  },
  {
   "cell_type": "code",
   "execution_count": 8,
   "id": "142e6227",
   "metadata": {},
   "outputs": [],
   "source": [
    "### Settings\n",
    "\n",
    "# Location of dataset\n",
    "DATASET_PATH = \"./dataset\"\n",
    "\n",
    "# Desired resolution of images\n",
    "TARGET_WIDTH = 28\n",
    "TARGET_HEIGHT = 28\n",
    "\n",
    "# Invert image (dark backgrounds can sometimes improve accuracy)\n",
    "INVERT = False\n",
    "\n",
    "# Set aside 20% for validation and 20% for test\n",
    "VAL_RATIO = 0.2\n",
    "TEST_RATIO = 0.2\n",
    "\n",
    "# You are welcome to change the seed to try a different validation set split\n",
    "random.seed(42)"
   ]
  },
  {
   "cell_type": "code",
   "execution_count": 9,
   "id": "0d303047",
   "metadata": {},
   "outputs": [
    {
     "name": "stdout",
     "output_type": "stream",
     "text": [
      "Added 50 images from background\n",
      "Added 50 images from capacitor\n",
      "Added 50 images from diode\n",
      "Added 50 images from led\n",
      "Added 50 images from resistor\n",
      "['background', 'capacitor', 'diode', 'led', 'resistor']\n",
      "Number of samples: 250\n"
     ]
    }
   ],
   "source": [
    "### Load images as Numpy arrays\n",
    "\n",
    "# We want to record the labels and assign a ground truth label as a number to each sample\n",
    "labels = []\n",
    "y_all = []    # Lowercase 'y' - 1D vector of the ground labels (n)\n",
    "X_all = []    # Uppercase 'X' - 3D array of all image samples (n x width x height)\n",
    "\n",
    "# Find the directories in the dataset folder (skip the Jupyter Notebook checkpoints hidden folder)\n",
    "for label in os.listdir(DATASET_PATH):\n",
    "    class_dir = os.path.join(DATASET_PATH, label)\n",
    "    if os.path.isdir(class_dir) and label != \".ipynb_checkpoints\":\n",
    "\n",
    "    # Add the name of the folder to our labels list\n",
    "        labels.append(label)\n",
    "\n",
    "    # Go through each image in the folder\n",
    "        for i, file in enumerate(os.listdir(class_dir)):\n",
    "\n",
    "      # Skip the Jupyter Notebook checkpoints folder that sometimes gets added\n",
    "            if file != \".ipynb_checkpoints\":\n",
    "\n",
    "        # Open image and convert to grayscale\n",
    "                file_path = os.path.join(class_dir, file)\n",
    "                img = PIL.Image.open(file_path).convert('L')\n",
    "\n",
    "        # Convert the image to a Numpy array, optionally invert, and append to X\n",
    "                img_array = np.asarray(img)\n",
    "                if INVERT:\n",
    "                    img_array = 255 - img_array\n",
    "                X_all.append(img_array)\n",
    "\n",
    "        # Add label to the y array\n",
    "                y_all.append(label)\n",
    "\n",
    "    # Show how many images we loaded\n",
    "    print(\"Added\", str(i + 1), \"images from\", label)\n",
    "\n",
    "# Calculate total number of samples\n",
    "num_samples = len(X_all)\n",
    "\n",
    "# Sort the labels list by alphabetical order\n",
    "labels = sorted(labels)\n",
    "\n",
    "# Print out labels and number of samples\n",
    "print(labels)\n",
    "print(\"Number of samples:\", num_samples)"
   ]
  },
  {
   "cell_type": "code",
   "execution_count": 10,
   "id": "7040e064",
   "metadata": {},
   "outputs": [
    {
     "name": "stdout",
     "output_type": "stream",
     "text": [
      "Before: ['background', 'background', 'background', 'background', 'background', 'background', 'background', 'background', 'background', 'background', 'background', 'background', 'background', 'background', 'background', 'background', 'background', 'background', 'background', 'background', 'background', 'background', 'background', 'background', 'background', 'background', 'background', 'background', 'background', 'background', 'background', 'background', 'background', 'background', 'background', 'background', 'background', 'background', 'background', 'background', 'background', 'background', 'background', 'background', 'background', 'background', 'background', 'background', 'background', 'background', 'capacitor', 'capacitor', 'capacitor', 'capacitor', 'capacitor', 'capacitor', 'capacitor', 'capacitor', 'capacitor', 'capacitor', 'capacitor', 'capacitor', 'capacitor', 'capacitor', 'capacitor', 'capacitor', 'capacitor', 'capacitor', 'capacitor', 'capacitor', 'capacitor', 'capacitor', 'capacitor', 'capacitor', 'capacitor', 'capacitor', 'capacitor', 'capacitor', 'capacitor', 'capacitor', 'capacitor', 'capacitor', 'capacitor', 'capacitor', 'capacitor', 'capacitor', 'capacitor', 'capacitor', 'capacitor', 'capacitor', 'capacitor', 'capacitor', 'capacitor', 'capacitor', 'capacitor', 'capacitor', 'capacitor', 'capacitor', 'capacitor', 'capacitor', 'diode', 'diode', 'diode', 'diode', 'diode', 'diode', 'diode', 'diode', 'diode', 'diode', 'diode', 'diode', 'diode', 'diode', 'diode', 'diode', 'diode', 'diode', 'diode', 'diode', 'diode', 'diode', 'diode', 'diode', 'diode', 'diode', 'diode', 'diode', 'diode', 'diode', 'diode', 'diode', 'diode', 'diode', 'diode', 'diode', 'diode', 'diode', 'diode', 'diode', 'diode', 'diode', 'diode', 'diode', 'diode', 'diode', 'diode', 'diode', 'diode', 'diode', 'led', 'led', 'led', 'led', 'led', 'led', 'led', 'led', 'led', 'led', 'led', 'led', 'led', 'led', 'led', 'led', 'led', 'led', 'led', 'led', 'led', 'led', 'led', 'led', 'led', 'led', 'led', 'led', 'led', 'led', 'led', 'led', 'led', 'led', 'led', 'led', 'led', 'led', 'led', 'led', 'led', 'led', 'led', 'led', 'led', 'led', 'led', 'led', 'led', 'led', 'resistor', 'resistor', 'resistor', 'resistor', 'resistor', 'resistor', 'resistor', 'resistor', 'resistor', 'resistor', 'resistor', 'resistor', 'resistor', 'resistor', 'resistor', 'resistor', 'resistor', 'resistor', 'resistor', 'resistor', 'resistor', 'resistor', 'resistor', 'resistor', 'resistor', 'resistor', 'resistor', 'resistor', 'resistor', 'resistor', 'resistor', 'resistor', 'resistor', 'resistor', 'resistor', 'resistor', 'resistor', 'resistor', 'resistor', 'resistor', 'resistor', 'resistor', 'resistor', 'resistor', 'resistor', 'resistor', 'resistor', 'resistor', 'resistor', 'resistor']\n",
      "After: [0, 0, 0, 0, 0, 0, 0, 0, 0, 0, 0, 0, 0, 0, 0, 0, 0, 0, 0, 0, 0, 0, 0, 0, 0, 0, 0, 0, 0, 0, 0, 0, 0, 0, 0, 0, 0, 0, 0, 0, 0, 0, 0, 0, 0, 0, 0, 0, 0, 0, 1, 1, 1, 1, 1, 1, 1, 1, 1, 1, 1, 1, 1, 1, 1, 1, 1, 1, 1, 1, 1, 1, 1, 1, 1, 1, 1, 1, 1, 1, 1, 1, 1, 1, 1, 1, 1, 1, 1, 1, 1, 1, 1, 1, 1, 1, 1, 1, 1, 1, 2, 2, 2, 2, 2, 2, 2, 2, 2, 2, 2, 2, 2, 2, 2, 2, 2, 2, 2, 2, 2, 2, 2, 2, 2, 2, 2, 2, 2, 2, 2, 2, 2, 2, 2, 2, 2, 2, 2, 2, 2, 2, 2, 2, 2, 2, 2, 2, 2, 2, 3, 3, 3, 3, 3, 3, 3, 3, 3, 3, 3, 3, 3, 3, 3, 3, 3, 3, 3, 3, 3, 3, 3, 3, 3, 3, 3, 3, 3, 3, 3, 3, 3, 3, 3, 3, 3, 3, 3, 3, 3, 3, 3, 3, 3, 3, 3, 3, 3, 3, 4, 4, 4, 4, 4, 4, 4, 4, 4, 4, 4, 4, 4, 4, 4, 4, 4, 4, 4, 4, 4, 4, 4, 4, 4, 4, 4, 4, 4, 4, 4, 4, 4, 4, 4, 4, 4, 4, 4, 4, 4, 4, 4, 4, 4, 4, 4, 4, 4, 4]\n"
     ]
    }
   ],
   "source": [
    "### Convert labels to numbers\n",
    "\n",
    "# Show the labels before the conversion\n",
    "print(\"Before:\", y_all)\n",
    "\n",
    "# Convert each label to its index in the labels\n",
    "y_out = []\n",
    "for i, label in enumerate(y_all):\n",
    "    y_out.append(labels.index(label))\n",
    "y_all = y_out\n",
    "\n",
    "# Show the labels after the conversion\n",
    "print(\"After:\", y_all)"
   ]
  },
  {
   "cell_type": "code",
   "execution_count": 11,
   "id": "22d6c690",
   "metadata": {},
   "outputs": [
    {
     "name": "stdout",
     "output_type": "stream",
     "text": [
      "Number of test samples: 50\n",
      "Number of validation samples: 50\n",
      "Number of training samples: 150\n"
     ]
    }
   ],
   "source": [
    "### Shuffle samples and labels together, divide into test, validation, and training sets\n",
    "\n",
    "# Shuffle samples and associated labels together\n",
    "X_y = list(zip(X_all, y_all))\n",
    "random.shuffle(X_y)\n",
    "X_all, y_all = zip(*X_y)\n",
    "\n",
    "# Calculate number of validation and test samples to put aside (round down)\n",
    "num_samples_test = int(TEST_RATIO * num_samples)\n",
    "num_samples_val = int(VAL_RATIO * num_samples)\n",
    "\n",
    "# The first `num_samples_test` samples of the shuffled list becomes the test set\n",
    "X_test = X_all[:num_samples_test]\n",
    "y_test = y_all[:num_samples_test]\n",
    "\n",
    "# The next `num_samples_val` samples of the shuffled list becomes the validation set\n",
    "X_val = X_all[num_samples_test:(num_samples_test + num_samples_val)]\n",
    "y_val = y_all[num_samples_test:(num_samples_test + num_samples_val)]\n",
    "\n",
    "# The remaining samples become the training set\n",
    "X_train = X_all[(num_samples_test + num_samples_val):]\n",
    "y_train = y_all[(num_samples_test + num_samples_val):]\n",
    "\n",
    "# Remember the number of samples in the test set\n",
    "num_samples_train = len(X_train)\n",
    "\n",
    "# Print out the number of test, validation, and training samples\n",
    "print(\"Number of test samples:\", num_samples_test)\n",
    "print(\"Number of validation samples:\", num_samples_val)\n",
    "print(\"Number of training samples:\", num_samples_train)"
   ]
  },
  {
   "cell_type": "code",
   "execution_count": 12,
   "id": "30d5a968",
   "metadata": {},
   "outputs": [
    {
     "name": "stdout",
     "output_type": "stream",
     "text": [
      "Label: 2 (diode)\n",
      "[[147 147 149 ... 149 149 149]\n",
      " [147 147 149 ... 149 149 149]\n",
      " [147 147 149 ... 149 149 149]\n",
      " ...\n",
      " [139 139 139 ... 155 155 155]\n",
      " [139 139 139 ... 149 155 155]\n",
      " [139 139 139 ... 149 149 155]]\n"
     ]
    },
    {
     "data": {
      "text/plain": [
       "<matplotlib.image.AxesImage at 0x15211242250>"
      ]
     },
     "execution_count": 12,
     "metadata": {},
     "output_type": "execute_result"
    },
    {
     "data": {
      "image/png": "[encoded data removed]",
      "text/plain": [
       "<Figure size 640x480 with 1 Axes>"
      ]
     },
     "metadata": {},
     "output_type": "display_data"
    }
   ],
   "source": [
    "### View one of the training samples\n",
    "\n",
    "# Chose which sample you want to view\n",
    "idx = 0\n",
    "\n",
    "# Print out label (numbe and string) and part of the array\n",
    "print(\"Label: \" + str(y_train[idx]) + \" (\" + labels[y_train[idx]] + \")\")\n",
    "print(X_train[idx])\n",
    "\n",
    "# Display image from array\n",
    "plt.imshow(X_train[idx], cmap='gray', vmin=0, vmax=255)"
   ]
  },
  {
   "cell_type": "code",
   "execution_count": 13,
   "id": "09fd0ce4",
   "metadata": {},
   "outputs": [],
   "source": [
    "### Function to resize list of images\n",
    "def resize_images(images, width, height, anti_aliasing=True):\n",
    "    \"\"\"\n",
    "        Prove a list of Numpy arrays (in images parameter) to have them all resized to desired height and\n",
    "        width. Returns the list of newly resized image arrays.\n",
    "        NOTE: skimage resize returns *normalized* image arrays (values between 0..1)\n",
    "    \"\"\"\n",
    "    X_out = []\n",
    "    for i, img in enumerate(images):\n",
    "        X_out.append(resize(img, (height, width), anti_aliasing=anti_aliasing))\n",
    "    return X_out"
   ]
  },
  {
   "cell_type": "code",
   "execution_count": 14,
   "id": "5865c7bc",
   "metadata": {},
   "outputs": [],
   "source": [
    "### Scale/crop images\n",
    "\n",
    "# Resize (scale) all images in the training set\n",
    "X_train = resize_images(X_train, TARGET_WIDTH, TARGET_HEIGHT)\n",
    "\n",
    "# Resize (scale) all images in the validation set\n",
    "X_val = resize_images(X_val, TARGET_WIDTH, TARGET_HEIGHT)\n",
    "\n",
    "# Resize (scale) all images in the test set\n",
    "X_test = resize_images(X_test, TARGET_WIDTH, TARGET_HEIGHT)"
   ]
  },
  {
   "cell_type": "code",
   "execution_count": 23,
   "id": "28f08362",
   "metadata": {},
   "outputs": [
    {
     "name": "stdout",
     "output_type": "stream",
     "text": [
      "Label: 4 (resistor)\n",
      "First row: [[0.6079352  0.60865204 0.60789576 0.61024736 0.6131318  0.61409879\n",
      "  0.61423407 0.61561215 0.61789371 0.61927392 0.61754428 0.6166201\n",
      "  0.63398467 0.63920811 0.63921571 0.63922443 0.63945846 0.63924647\n",
      "  0.63949504 0.6396273  0.63941302 0.63922086 0.63921569 0.63921569\n",
      "  0.63920173 0.63905615 0.6373652  0.63206179]]\n"
     ]
    },
    {
     "data": {
      "text/plain": [
       "<matplotlib.image.AxesImage at 0x15212794190>"
      ]
     },
     "execution_count": 23,
     "metadata": {},
     "output_type": "execute_result"
    },
    {
     "data": {
      "image/png": "[encoded data removed]",
      "text/plain": [
       "<Figure size 640x480 with 1 Axes>"
      ]
     },
     "metadata": {},
     "output_type": "display_data"
    }
   ],
   "source": [
    "### View training sample again (after they all have been scaled)\n",
    "\n",
    "# Chose which sample you want to view\n",
    "idx = 10\n",
    "\n",
    "# Print out label (numbe and string) and part of the array\n",
    "print(\"Label: \" + str(y_train[idx]) + \" (\" + labels[y_train[idx]] + \")\")\n",
    "print(\"First row:\", X_train[idx][:1,:])\n",
    "\n",
    "# Display image from array (note that images have been normalized)\n",
    "plt.imshow(X_train[idx], cmap='gray', vmin=0, vmax=1)\n",
    "     "
   ]
  },
  {
   "cell_type": "code",
   "execution_count": null,
   "id": "1c17725a",
   "metadata": {},
   "outputs": [],
   "source": []
  }
 ],
 "metadata": {
  "kernelspec": {
   "display_name": "Python 3 (ipykernel)",
   "language": "python",
   "name": "python3"
  },
  "language_info": {
   "codemirror_mode": {
    "name": "ipython",
    "version": 3
   },
   "file_extension": ".py",
   "mimetype": "text/x-python",
   "name": "python",
   "nbconvert_exporter": "python",
   "pygments_lexer": "ipython3",
   "version": "3.9.12"
  }
 },
 "nbformat": 4,
 "nbformat_minor": 5
}
